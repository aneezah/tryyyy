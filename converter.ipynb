{
 "cells": [
  {
   "cell_type": "code",
   "execution_count": 3,
   "id": "7b590f59",
   "metadata": {
    "scrolled": false
   },
   "outputs": [
    {
     "name": "stdout",
     "output_type": "stream",
     "text": [
      "welome to aneezah exchange! \n",
      "enter amount in naira560\n",
      "currency:ruble\n",
      "ruble rate: 54.5\n",
      "560 naira is 30520.0 ruble\n"
     ]
    }
   ],
   "source": [
    "import const\n",
    "print(\"welome to aneezah exchange! \")\n",
    "x = input(\"enter amount in naira\")\n",
    "opt = input(\"currency:\")\n",
    "if opt == \"dollar\":\n",
    "    print(\"dollar rate:\",const.dollar)\n",
    "    exchange = int(x) * int(const.dollar)\n",
    "    print(x,\"naira is\",exchange,\"dollar\")\n",
    "elif opt == \"pounds\":\n",
    "    print(\"pounds rate:\",const.pounds)\n",
    "    exchange = int(x) * int(const.pounds)\n",
    "    print(x,\"naira is\",exchange,\"pounds\")\n",
    "elif opt == \"dirham\":\n",
    "    print(\"dirham rate:\",const.dirham)\n",
    "    exchange = int(x) * float(const.dirham)\n",
    "    print(x,\"naira is\",exchange,\"dirham\")\n",
    "elif opt == \"cefa\":\n",
    "    print(\"cefa rate:\",const.cefa)\n",
    "    exchange = int(x) * float(const.cefa)\n",
    "    print(x,\"naira is\",exchange,\"cefa\")\n",
    "elif opt == \"euro\":\n",
    "    print(\"euro rate:\",const.euro)\n",
    "    exchange = int(x) * int(const.euro)\n",
    "    print(x,\"naira is\",exchange,\"euro\")\n",
    "elif opt == \"ruble\":\n",
    "    print(\"ruble rate:\",const.ruble)\n",
    "    exchange = int(x) * float(const.ruble)\n",
    "    print(x,\"naira is\",exchange,\"ruble\")\n",
    "else:\n",
    "    print(\"unrecognize currency\")"
   ]
  },
  {
   "cell_type": "code",
   "execution_count": null,
   "id": "b8d80bf2",
   "metadata": {},
   "outputs": [],
   "source": []
  }
 ],
 "metadata": {
  "kernelspec": {
   "display_name": "Python 3 (ipykernel)",
   "language": "python",
   "name": "python3"
  },
  "language_info": {
   "codemirror_mode": {
    "name": "ipython",
    "version": 3
   },
   "file_extension": ".py",
   "mimetype": "text/x-python",
   "name": "python",
   "nbconvert_exporter": "python",
   "pygments_lexer": "ipython3",
   "version": "3.11.1"
  }
 },
 "nbformat": 4,
 "nbformat_minor": 5
}
